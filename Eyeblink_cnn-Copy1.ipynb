{
 "cells": [
  {
   "cell_type": "code",
   "execution_count": 1,
   "metadata": {},
   "outputs": [],
   "source": [
    "import numpy as np\n",
    "import matplotlib.pyplot as plt\n",
    "import random\n",
    "import os\n",
    "\n",
    "import mne\n",
    "from mne.viz import plot_topomap\n",
    "import csv\n",
    "\n",
    "from operator import itemgetter\n",
    "from collections import OrderedDict"
   ]
  },
  {
   "cell_type": "code",
   "execution_count": 2,
   "metadata": {},
   "outputs": [],
   "source": [
    "def load_raw_data(data_path):\n",
    "    #load the raw data\n",
    "    raw = mne.io.read_raw_fif(data_path, preload=True)\n",
    "    return raw"
   ]
  },
  {
   "cell_type": "code",
   "execution_count": 5,
   "metadata": {},
   "outputs": [
    {
     "name": "stdout",
     "output_type": "stream",
     "text": [
      "Opening raw data file /Users/mlion0200/GitRepo/eye_blink_detection/data/sub-CC310385/meg/passive_raw.fif...\n",
      "    Read a total of 8 projection items:\n",
      "        mag_ssp_upright.fif : PCA-mags-v1 (1 x 306)  idle\n",
      "        mag_ssp_upright.fif : PCA-mags-v2 (1 x 306)  idle\n",
      "        mag_ssp_upright.fif : PCA-mags-v3 (1 x 306)  idle\n",
      "        mag_ssp_upright.fif : PCA-mags-v4 (1 x 306)  idle\n",
      "        mag_ssp_upright.fif : PCA-mags-v5 (1 x 306)  idle\n",
      "        grad_ssp_upright.fif : PCA-grad-v1 (1 x 306)  idle\n",
      "        grad_ssp_upright.fif : PCA-grad-v2 (1 x 306)  idle\n",
      "        grad_ssp_upright.fif : PCA-grad-v3 (1 x 306)  idle\n",
      "    Range : 15000 ... 163999 =     15.000 ...   163.999 secs\n",
      "Ready.\n",
      "Current compensation grade : 0\n",
      "Reading 0 ... 148999  =      0.000 ...   148.999 secs...\n"
     ]
    }
   ],
   "source": [
    "file_path = 'data/sub-CC310385/meg/passive_raw.fif'\n",
    "raw = load_raw_data(file_path)"
   ]
  },
  {
   "cell_type": "code",
   "execution_count": 6,
   "metadata": {},
   "outputs": [],
   "source": [
    "grad_pos = mne.find_layout(raw.info, ch_type='grad')"
   ]
  },
  {
   "cell_type": "code",
   "execution_count": 7,
   "metadata": {},
   "outputs": [],
   "source": [
    "def define_channel_image(raw, ch_type):\n",
    "    total = 0\n",
    "    channel_image = [[0 for i in range(15)] for j in range(15)]\n",
    "    channel_pos_dict = {}\n",
    "    grad_pos = mne.find_layout(raw.info, ch_type=ch_type)\n",
    "    for i in range(0, len(grad_pos.pos)):\n",
    "        channel_pos_dict[grad_pos.names[i]] = grad_pos.pos[i][:2].tolist()\n",
    "    sorted_pos = sorted(channel_pos_dict.items(), key=lambda e:e[1])\n",
    "    size = 15\n",
    "    for i in range(0, size):\n",
    "        if i == 0 or i == 14:\n",
    "            size = 9\n",
    "        elif i == 1 or i == 13:\n",
    "            size = 11\n",
    "        elif i == 2 or i == 12:\n",
    "            size = 14\n",
    "        else:\n",
    "            size = 15\n",
    "        index = 0\n",
    "        sorted_column = sorted(sorted_pos[total:total+size], key=lambda e:e[1][1])\n",
    "        total = total + size\n",
    "        for j in range(int((15-size)/2), int((15+size)/2)):\n",
    "            channel_image[i][j] = sorted_column[index]\n",
    "            index = index + 1\n",
    "    return channel_image"
   ]
  },
  {
   "cell_type": "code",
   "execution_count": null,
   "metadata": {},
   "outputs": [],
   "source": [
    "def brain_map_interpolation(raw, ch_type):\n",
    "    channel_pos_dict = {}\n",
    "    grad_pos = mne.find_layout(raw.info, ch_type=ch_type)\n",
    "    for i in range(0, len(grad_pos.pos)):\n",
    "        channel_pos_dict[grad_pos.names[i]] = grad_pos.pos[i][:2].tolist()\n",
    "    "
   ]
  },
  {
   "cell_type": "code",
   "execution_count": 8,
   "metadata": {},
   "outputs": [],
   "source": [
    "channel_image = define_channel_image(raw, 'grad')"
   ]
  },
  {
   "cell_type": "code",
   "execution_count": 9,
   "metadata": {},
   "outputs": [],
   "source": [
    "def preprocess_eog(eog):\n",
    "    eog.filter(1, 15, method=\"iir\", iir_params=None)\n",
    "    return eog"
   ]
  },
  {
   "cell_type": "code",
   "execution_count": 10,
   "metadata": {},
   "outputs": [],
   "source": [
    "def get_eog_channels(raw):\n",
    "    picks = mne.pick_types(raw.info, meg=False, eeg=False, stim=False, eog=True, exclude='bads')\n",
    "    raw.filter(1, 15, picks=picks, method=\"iir\", iir_params=None)\n",
    "    eog = raw.copy().pick_channels(['EOG062'])\n",
    "    #raw = raw.pick_channels(['EOG061'])\n",
    "    return eog"
   ]
  },
  {
   "cell_type": "code",
   "execution_count": 11,
   "metadata": {},
   "outputs": [],
   "source": [
    "def get_eye_blink_time_points_array(eog):\n",
    "    eog_data = eog.get_data()[0]\n",
    "    threshold = np.max(eog_data)*2/3\n",
    "    time_points = np.where(eog_data > threshold)\n",
    "    return threshold, time_points[0]"
   ]
  },
  {
   "cell_type": "code",
   "execution_count": 12,
   "metadata": {},
   "outputs": [],
   "source": [
    "def get_peak_time_point(time_points_array):\n",
    "    start = time_points_array[0]\n",
    "    end = time_points_array[0]\n",
    "    peaks = []\n",
    "    stored = time_points_array[0:5]\n",
    "    for i in range(0, len(time_points_array)):\n",
    "        if time_points_array[i] not in stored and (time_points_array[i]-1) not in stored:\n",
    "            end = time_points_array[i-1]\n",
    "            peak = start + int((end - start)/2)\n",
    "            peaks.append(peak)\n",
    "            start = time_points_array[i]\n",
    "        if i >= 4:\n",
    "            stored = time_points_array[i-4:i+1]\n",
    "    return peaks"
   ]
  },
  {
   "cell_type": "code",
   "execution_count": 22,
   "metadata": {},
   "outputs": [],
   "source": [
    "def random_markers(window_size, sampling_rate, marker):\n",
    "    random_marker = []\n",
    "    buffer = window_size*sampling_rate\n",
    "    if len(marker) <= 0:\n",
    "        return random_marker\n",
    "    for i in range(len(marker)):\n",
    "        if i == 0 and marker[0] > buffer:\n",
    "            random_marker.append(random.randint(buffer,marker[0]))\n",
    "        elif marker[i-1]+buffer < marker[i]-buffer:\n",
    "            random_marker.append(random.randint(marker[i-1]+buffer,marker[i]-buffer))\n",
    "    # HARD CODED length\n",
    "    if marker[i]+buffer < 147000-buffer:\n",
    "        random_marker.append(random.randint(marker[i]+buffer, 147000-buffer))\n",
    "    return random_marker"
   ]
  },
  {
   "cell_type": "code",
   "execution_count": 14,
   "metadata": {},
   "outputs": [],
   "source": [
    "def preprocessing(raw):\n",
    "    picks = mne.pick_types(raw.info, meg='grad', eeg=False, stim=False, exclude='bads')\n",
    "    #raw.filter(3, 40, picks=picks,l_trans_bandwidth='auto', filter_length='auto', phase='zero', fir_design='firwin')\n",
    "    raw.filter(0.5, 25, picks=picks,l_trans_bandwidth='auto', filter_length='auto', phase='zero', fir_design='firwin')\n",
    "    raw.notch_filter(60, picks=picks, fir_design='firwin')\n",
    "    # channels = ['BG1-2511', 'BG2-2511', 'BG3-2511', 'BP1-2511', 'BP2-2511', 'BP3-2511', 'BQ1-2511', 'BQ2-2511', 'BQ3-2511', 'BR1-2511', 'BR2-2511', 'BR3-2511', 'G12-2511', 'G13-2511', 'G23-2511', 'P12-2511', 'P13-2511', 'Q12-2511', 'Q13-2511', 'Q21-2511', 'Q23-2511', 'R12-2511', 'R13-2511', 'R23-2511', 'SCLK01-177', 'G11-2511', 'G22-2511', 'P11-2511', 'P22-2511', 'Q11-2511', 'Q22-2511', 'R11-2511', 'R22-2511', 'Fp1', 'Fp2', 'F7', 'F3', 'Fz', 'F4', 'F8', 'T3', 'C3', 'Cz', 'C4', 'T4', 'T5', 'P3', 'Pz', 'P4', 'T6', 'O1', 'O2', 'EEG020', 'EEG021', 'EKG']\n",
    "    # if b_drop_channels:\n",
    "    # \tchannels = ['BG1-2511', 'BG2-2511', 'BG3-2511', 'BP1-2511', 'BP2-2511', 'BP3-2511', 'BQ1-2511', 'BQ2-2511', 'BQ3-2511', 'BR1-2511', 'BR2-2511', 'BR3-2511', 'G12-2511', 'G13-2511', 'G23-2511', 'P12-2511', 'P13-2511', 'Q12-2511', 'Q13-2511', 'Q21-2511', 'Q23-2511', 'R12-2511', 'R13-2511', 'R23-2511', 'SCLK01-177', 'G11-2511', 'G22-2511', 'P11-2511', 'P22-2511', 'Q11-2511', 'Q22-2511', 'R11-2511', 'R22-2511', 'Fp1', 'Fp2', 'F7', 'F3', 'Fz', 'F4', 'F8', 'T3', 'C3', 'Cz', 'C4', 'T4', 'T5', 'P3', 'Pz', 'P4', 'T6', 'O1', 'O2', 'EEG020', 'EEG021', 'EKG']\n",
    "    # \traw = raw.drop_channels(channels)\n",
    "    return raw"
   ]
  },
  {
   "cell_type": "code",
   "execution_count": 15,
   "metadata": {},
   "outputs": [],
   "source": [
    "def load_data_events(dir_name):\n",
    "    file_path = os.path.join(os.getcwd(), 'data/'+dir_name+'/meg/passive_raw.fif')\n",
    "    raw =load_raw_data(file_path)\n",
    "    data_preprocessed = preprocessing(raw)\n",
    "\n",
    "    # add stimulus channel\n",
    "    # positive = 1, negative = 2\n",
    "    eog = get_eog_channels(raw)\n",
    "    eye_blink_threshold, time_points_array = get_eye_blink_time_points_array(eog)\n",
    "    eye_blink_peaks = get_peak_time_point(time_points_array)\n",
    "    non_eye_blink_peaks = random_markers(0.2, 1000, eye_blink_peaks)\n",
    "    # sample need to between raw.first_samp and raw.last_samp\n",
    "\n",
    "    eye_blinks = []\n",
    "    labels = []\n",
    "    for i in eye_blink_peaks:\n",
    "        if i >= raw.first_samp and i <= raw.last_samp:\n",
    "            eye_blink_image = convert_to_image(raw, i, 'grad', channel_image)\n",
    "            eye_blinks.append(eye_blink_image)\n",
    "            labels.append(1)\n",
    "    for j in non_eye_blink_peaks:\n",
    "        if j >= raw.first_samp and j <= raw.last_samp:\n",
    "            non_eye_blink_image = convert_to_image(raw, j, 'grad', channel_image)\n",
    "            eye_blinks.append(non_eye_blink_image)\n",
    "            labels.append(2)\n",
    "    return eye_blinks, labels"
   ]
  },
  {
   "cell_type": "code",
   "execution_count": 16,
   "metadata": {},
   "outputs": [],
   "source": [
    "def load_all_epochs_data_from_list(dir_list):\n",
    "    # do not convert to list\n",
    "    eye_blinks_array = []\n",
    "    labels_array = []\n",
    "\n",
    "    for ds_file in dir_list:\n",
    "        print('Start loading data...')\n",
    "        print('From dataset: ' + ds_file)\n",
    "        eye_blinks, labels = load_data_events(ds_file)\n",
    "        eye_blinks_array = eye_blinks_array + eye_blinks\n",
    "        labels_array = labels_array + labels\n",
    "        \n",
    "    return eye_blinks_array, labels_array"
   ]
  },
  {
   "cell_type": "code",
   "execution_count": 23,
   "metadata": {
    "scrolled": true
   },
   "outputs": [
    {
     "name": "stdout",
     "output_type": "stream",
     "text": [
      "Start loading data...\n",
      "From dataset: sub-CC222496\n",
      "Opening raw data file /Users/mlion0200/GitRepo/eye_blink_detection/data/sub-CC222496/meg/passive_raw.fif...\n",
      "    Read a total of 8 projection items:\n",
      "        mag_ssp_upright.fif : PCA-mags-v1 (1 x 306)  idle\n",
      "        mag_ssp_upright.fif : PCA-mags-v2 (1 x 306)  idle\n",
      "        mag_ssp_upright.fif : PCA-mags-v3 (1 x 306)  idle\n",
      "        mag_ssp_upright.fif : PCA-mags-v4 (1 x 306)  idle\n",
      "        mag_ssp_upright.fif : PCA-mags-v5 (1 x 306)  idle\n",
      "        grad_ssp_upright.fif : PCA-grad-v1 (1 x 306)  idle\n",
      "        grad_ssp_upright.fif : PCA-grad-v2 (1 x 306)  idle\n",
      "        grad_ssp_upright.fif : PCA-grad-v3 (1 x 306)  idle\n",
      "    Range : 17000 ... 162999 =     17.000 ...   162.999 secs\n",
      "Ready.\n",
      "Current compensation grade : 0\n",
      "Reading 0 ... 145999  =      0.000 ...   145.999 secs...\n",
      "Filtering a subset of channels. The highpass and lowpass values in the measurement info will not be updated.\n",
      "Setting up band-pass filter from 0.5 - 25 Hz\n",
      "l_trans_bandwidth chosen to be 0.5 Hz\n",
      "h_trans_bandwidth chosen to be 6.2 Hz\n",
      "Filter length of 6601 samples (6.601 sec) selected\n",
      "Setting up band-stop filter from 59 - 61 Hz\n",
      "Filter length of 6601 samples (6.601 sec) selected\n",
      "Filtering a subset of channels. The highpass and lowpass values in the measurement info will not be updated.\n",
      "Setting up band-pass filter from 1 - 15 Hz\n",
      "Start loading data...\n",
      "From dataset: sub-CC310361\n",
      "Opening raw data file /Users/mlion0200/GitRepo/eye_blink_detection/data/sub-CC310361/meg/passive_raw.fif...\n",
      "    Read a total of 8 projection items:\n",
      "        mag_ssp_upright.fif : PCA-mags-v1 (1 x 306)  idle\n",
      "        mag_ssp_upright.fif : PCA-mags-v2 (1 x 306)  idle\n",
      "        mag_ssp_upright.fif : PCA-mags-v3 (1 x 306)  idle\n",
      "        mag_ssp_upright.fif : PCA-mags-v4 (1 x 306)  idle\n",
      "        mag_ssp_upright.fif : PCA-mags-v5 (1 x 306)  idle\n",
      "        grad_ssp_upright.fif : PCA-grad-v1 (1 x 306)  idle\n",
      "        grad_ssp_upright.fif : PCA-grad-v2 (1 x 306)  idle\n",
      "        grad_ssp_upright.fif : PCA-grad-v3 (1 x 306)  idle\n",
      "    Range : 16000 ... 162999 =     16.000 ...   162.999 secs\n",
      "Ready.\n",
      "Current compensation grade : 0\n",
      "Reading 0 ... 146999  =      0.000 ...   146.999 secs...\n",
      "Filtering a subset of channels. The highpass and lowpass values in the measurement info will not be updated.\n",
      "Setting up band-pass filter from 0.5 - 25 Hz\n",
      "l_trans_bandwidth chosen to be 0.5 Hz\n",
      "h_trans_bandwidth chosen to be 6.2 Hz\n",
      "Filter length of 6601 samples (6.601 sec) selected\n",
      "Setting up band-stop filter from 59 - 61 Hz\n",
      "Filter length of 6601 samples (6.601 sec) selected\n",
      "Filtering a subset of channels. The highpass and lowpass values in the measurement info will not be updated.\n",
      "Setting up band-pass filter from 1 - 15 Hz\n",
      "Start loading data...\n",
      "From dataset: sub-CC310385\n",
      "Opening raw data file /Users/mlion0200/GitRepo/eye_blink_detection/data/sub-CC310385/meg/passive_raw.fif...\n",
      "    Read a total of 8 projection items:\n",
      "        mag_ssp_upright.fif : PCA-mags-v1 (1 x 306)  idle\n",
      "        mag_ssp_upright.fif : PCA-mags-v2 (1 x 306)  idle\n",
      "        mag_ssp_upright.fif : PCA-mags-v3 (1 x 306)  idle\n",
      "        mag_ssp_upright.fif : PCA-mags-v4 (1 x 306)  idle\n",
      "        mag_ssp_upright.fif : PCA-mags-v5 (1 x 306)  idle\n",
      "        grad_ssp_upright.fif : PCA-grad-v1 (1 x 306)  idle\n",
      "        grad_ssp_upright.fif : PCA-grad-v2 (1 x 306)  idle\n",
      "        grad_ssp_upright.fif : PCA-grad-v3 (1 x 306)  idle\n",
      "    Range : 15000 ... 163999 =     15.000 ...   163.999 secs\n",
      "Ready.\n",
      "Current compensation grade : 0\n",
      "Reading 0 ... 148999  =      0.000 ...   148.999 secs...\n",
      "Filtering a subset of channels. The highpass and lowpass values in the measurement info will not be updated.\n",
      "Setting up band-pass filter from 0.5 - 25 Hz\n",
      "l_trans_bandwidth chosen to be 0.5 Hz\n",
      "h_trans_bandwidth chosen to be 6.2 Hz\n",
      "Filter length of 6601 samples (6.601 sec) selected\n",
      "Setting up band-stop filter from 59 - 61 Hz\n",
      "Filter length of 6601 samples (6.601 sec) selected\n",
      "Filtering a subset of channels. The highpass and lowpass values in the measurement info will not be updated.\n",
      "Setting up band-pass filter from 1 - 15 Hz\n"
     ]
    }
   ],
   "source": [
    "dir_list = os.listdir('data')\n",
    "eye_blinks_array = []\n",
    "labels_array = []\n",
    "\n",
    "for ds_file in dir_list:\n",
    "    print('Start loading data...')\n",
    "    print('From dataset: ' + ds_file)\n",
    "    eye_blinks, labels = load_data_events(ds_file)\n",
    "    eye_blinks_array = eye_blinks_array + eye_blinks\n",
    "    labels_array = labels_array + labels\n"
   ]
  },
  {
   "cell_type": "code",
   "execution_count": 24,
   "metadata": {},
   "outputs": [
    {
     "data": {
      "text/plain": [
       "155"
      ]
     },
     "execution_count": 24,
     "metadata": {},
     "output_type": "execute_result"
    }
   ],
   "source": [
    "len(eye_blinks_array)"
   ]
  },
  {
   "cell_type": "code",
   "execution_count": 84,
   "metadata": {},
   "outputs": [
    {
     "name": "stdout",
     "output_type": "stream",
     "text": [
      "Opening raw data file /Users/mlion0200/GitRepo/eye_blink_detection/data/sub-CC310385/meg/passive_raw.fif...\n",
      "    Read a total of 8 projection items:\n",
      "        mag_ssp_upright.fif : PCA-mags-v1 (1 x 306)  idle\n",
      "        mag_ssp_upright.fif : PCA-mags-v2 (1 x 306)  idle\n",
      "        mag_ssp_upright.fif : PCA-mags-v3 (1 x 306)  idle\n",
      "        mag_ssp_upright.fif : PCA-mags-v4 (1 x 306)  idle\n",
      "        mag_ssp_upright.fif : PCA-mags-v5 (1 x 306)  idle\n",
      "        grad_ssp_upright.fif : PCA-grad-v1 (1 x 306)  idle\n",
      "        grad_ssp_upright.fif : PCA-grad-v2 (1 x 306)  idle\n",
      "        grad_ssp_upright.fif : PCA-grad-v3 (1 x 306)  idle\n",
      "    Range : 15000 ... 163999 =     15.000 ...   163.999 secs\n",
      "Ready.\n",
      "Current compensation grade : 0\n",
      "Reading 0 ... 148999  =      0.000 ...   148.999 secs...\n",
      "Filtering a subset of channels. The highpass and lowpass values in the measurement info will not be updated.\n",
      "Setting up band-pass filter from 0.5 - 25 Hz\n",
      "l_trans_bandwidth chosen to be 0.5 Hz\n",
      "h_trans_bandwidth chosen to be 6.2 Hz\n",
      "Filter length of 6601 samples (6.601 sec) selected\n",
      "Setting up band-stop filter from 59 - 61 Hz\n",
      "Filter length of 6601 samples (6.601 sec) selected\n",
      "Filtering a subset of channels. The highpass and lowpass values in the measurement info will not be updated.\n",
      "Setting up band-pass filter from 1 - 15 Hz\n"
     ]
    }
   ],
   "source": [
    "file_path = os.path.join(os.getcwd(), 'data/sub-CC310385/meg/passive_raw.fif')\n",
    "raw =load_raw_data(file_path)\n",
    "data_preprocessed = preprocessing(raw)\n",
    "\n",
    "# add stimulus channel\n",
    "# positive = 1, negative = 2\n",
    "eog = get_eog_channels(raw)\n",
    "eye_blink_threshold, time_points_array = get_eye_blink_time_points_array(eog)\n",
    "eye_blink_peaks = get_peak_time_point(time_points_array)\n",
    "non_eye_blink_peaks = random_markers(0.2, 1000, eye_blink_peaks)\n",
    "# sample need to between raw.first_samp and raw.last_samp\n",
    "\n",
    "eye_blinks = []\n",
    "labels = []\n",
    "for i in eye_blink_peaks:\n",
    "    if i >= raw.first_samp and i <= raw.last_samp:\n",
    "        eye_blink_image = convert_to_image(raw, i, 'grad', channel_image)\n",
    "        eye_blinks.append(eye_blink_image)\n",
    "        labels.append(1)\n",
    "for j in non_eye_blink_peaks:\n",
    "    if j >= raw.first_samp and j <= raw.last_samp:\n",
    "        non_eye_blink_image = convert_to_image(raw, j, 'grad', channel_image)\n",
    "        eye_blinks.append(non_eye_blink_image)\n",
    "        labels.append(2)"
   ]
  },
  {
   "cell_type": "code",
   "execution_count": 18,
   "metadata": {},
   "outputs": [
    {
     "name": "stderr",
     "output_type": "stream",
     "text": [
      "Using TensorFlow backend.\n"
     ]
    }
   ],
   "source": [
    "from sklearn.preprocessing import StandardScaler\n",
    "from keras.layers.convolutional import Convolution2D\n",
    "from keras.layers.convolutional import MaxPooling2D\n",
    "from keras.layers.core import Activation\n",
    "from keras.layers.core import Flatten\n",
    "from keras.layers.core import Dense\n",
    "from keras.models import Sequential\n",
    "from keras.optimizers import SGD\n",
    "from keras.utils import np_utils\n",
    "from sklearn.model_selection import train_test_split"
   ]
  },
  {
   "cell_type": "code",
   "execution_count": 25,
   "metadata": {},
   "outputs": [],
   "source": [
    "scaler = StandardScaler()"
   ]
  },
  {
   "cell_type": "code",
   "execution_count": 91,
   "metadata": {},
   "outputs": [],
   "source": [
    "eye_blinks_norm = []\n",
    "for i in range(0,len(eye_blinks)):\n",
    "    eye_blinks_norm.append(scaler.fit_transform(eye_blinks[i]))"
   ]
  },
  {
   "cell_type": "code",
   "execution_count": 26,
   "metadata": {},
   "outputs": [],
   "source": [
    "eye_blinks_norm = []\n",
    "for i in range(0,len(eye_blinks_array)):\n",
    "    eye_blinks_norm.append(scaler.fit_transform(eye_blinks_array[i]))"
   ]
  },
  {
   "cell_type": "code",
   "execution_count": 91,
   "metadata": {},
   "outputs": [
    {
     "ename": "ValueError",
     "evalue": "Found input variables with inconsistent numbers of samples: [155, 71]",
     "output_type": "error",
     "traceback": [
      "\u001b[0;31m---------------------------------------------------------------------------\u001b[0m",
      "\u001b[0;31mValueError\u001b[0m                                Traceback (most recent call last)",
      "\u001b[0;32m<ipython-input-91-0eabd67d485b>\u001b[0m in \u001b[0;36m<module>\u001b[0;34m\u001b[0m\n\u001b[0;32m----> 1\u001b[0;31m \u001b[0;34m(\u001b[0m\u001b[0mtrain_data\u001b[0m\u001b[0;34m,\u001b[0m \u001b[0mtest_data\u001b[0m\u001b[0;34m,\u001b[0m \u001b[0mtrain_labels\u001b[0m\u001b[0;34m,\u001b[0m \u001b[0mtest_labels\u001b[0m\u001b[0;34m)\u001b[0m \u001b[0;34m=\u001b[0m \u001b[0mtrain_test_split\u001b[0m\u001b[0;34m(\u001b[0m\u001b[0meye_blinks_norm\u001b[0m\u001b[0;34m,\u001b[0m \u001b[0mlabels\u001b[0m\u001b[0;34m,\u001b[0m \u001b[0mtest_size\u001b[0m \u001b[0;34m=\u001b[0m \u001b[0;36m0.1\u001b[0m\u001b[0;34m)\u001b[0m\u001b[0;34m\u001b[0m\u001b[0;34m\u001b[0m\u001b[0m\n\u001b[0m",
      "\u001b[0;32m/anaconda3/envs/mne/lib/python3.6/site-packages/sklearn/model_selection/_split.py\u001b[0m in \u001b[0;36mtrain_test_split\u001b[0;34m(*arrays, **options)\u001b[0m\n\u001b[1;32m   2072\u001b[0m         \u001b[0mtest_size\u001b[0m \u001b[0;34m=\u001b[0m \u001b[0;36m0.25\u001b[0m\u001b[0;34m\u001b[0m\u001b[0;34m\u001b[0m\u001b[0m\n\u001b[1;32m   2073\u001b[0m \u001b[0;34m\u001b[0m\u001b[0m\n\u001b[0;32m-> 2074\u001b[0;31m     \u001b[0marrays\u001b[0m \u001b[0;34m=\u001b[0m \u001b[0mindexable\u001b[0m\u001b[0;34m(\u001b[0m\u001b[0;34m*\u001b[0m\u001b[0marrays\u001b[0m\u001b[0;34m)\u001b[0m\u001b[0;34m\u001b[0m\u001b[0;34m\u001b[0m\u001b[0m\n\u001b[0m\u001b[1;32m   2075\u001b[0m \u001b[0;34m\u001b[0m\u001b[0m\n\u001b[1;32m   2076\u001b[0m     \u001b[0;32mif\u001b[0m \u001b[0mshuffle\u001b[0m \u001b[0;32mis\u001b[0m \u001b[0;32mFalse\u001b[0m\u001b[0;34m:\u001b[0m\u001b[0;34m\u001b[0m\u001b[0;34m\u001b[0m\u001b[0m\n",
      "\u001b[0;32m/anaconda3/envs/mne/lib/python3.6/site-packages/sklearn/utils/validation.py\u001b[0m in \u001b[0;36mindexable\u001b[0;34m(*iterables)\u001b[0m\n\u001b[1;32m    253\u001b[0m         \u001b[0;32melse\u001b[0m\u001b[0;34m:\u001b[0m\u001b[0;34m\u001b[0m\u001b[0;34m\u001b[0m\u001b[0m\n\u001b[1;32m    254\u001b[0m             \u001b[0mresult\u001b[0m\u001b[0;34m.\u001b[0m\u001b[0mappend\u001b[0m\u001b[0;34m(\u001b[0m\u001b[0mnp\u001b[0m\u001b[0;34m.\u001b[0m\u001b[0marray\u001b[0m\u001b[0;34m(\u001b[0m\u001b[0mX\u001b[0m\u001b[0;34m)\u001b[0m\u001b[0;34m)\u001b[0m\u001b[0;34m\u001b[0m\u001b[0;34m\u001b[0m\u001b[0m\n\u001b[0;32m--> 255\u001b[0;31m     \u001b[0mcheck_consistent_length\u001b[0m\u001b[0;34m(\u001b[0m\u001b[0;34m*\u001b[0m\u001b[0mresult\u001b[0m\u001b[0;34m)\u001b[0m\u001b[0;34m\u001b[0m\u001b[0;34m\u001b[0m\u001b[0m\n\u001b[0m\u001b[1;32m    256\u001b[0m     \u001b[0;32mreturn\u001b[0m \u001b[0mresult\u001b[0m\u001b[0;34m\u001b[0m\u001b[0;34m\u001b[0m\u001b[0m\n\u001b[1;32m    257\u001b[0m \u001b[0;34m\u001b[0m\u001b[0m\n",
      "\u001b[0;32m/anaconda3/envs/mne/lib/python3.6/site-packages/sklearn/utils/validation.py\u001b[0m in \u001b[0;36mcheck_consistent_length\u001b[0;34m(*arrays)\u001b[0m\n\u001b[1;32m    228\u001b[0m     \u001b[0;32mif\u001b[0m \u001b[0mlen\u001b[0m\u001b[0;34m(\u001b[0m\u001b[0muniques\u001b[0m\u001b[0;34m)\u001b[0m \u001b[0;34m>\u001b[0m \u001b[0;36m1\u001b[0m\u001b[0;34m:\u001b[0m\u001b[0;34m\u001b[0m\u001b[0;34m\u001b[0m\u001b[0m\n\u001b[1;32m    229\u001b[0m         raise ValueError(\"Found input variables with inconsistent numbers of\"\n\u001b[0;32m--> 230\u001b[0;31m                          \" samples: %r\" % [int(l) for l in lengths])\n\u001b[0m\u001b[1;32m    231\u001b[0m \u001b[0;34m\u001b[0m\u001b[0m\n\u001b[1;32m    232\u001b[0m \u001b[0;34m\u001b[0m\u001b[0m\n",
      "\u001b[0;31mValueError\u001b[0m: Found input variables with inconsistent numbers of samples: [155, 71]"
     ]
    }
   ],
   "source": [
    "(train_data, test_data, train_labels, test_labels) = train_test_split(eye_blinks_norm, labels, test_size = 0.1)"
   ]
  },
  {
   "cell_type": "code",
   "execution_count": 92,
   "metadata": {},
   "outputs": [],
   "source": [
    "(train_data, test_data, train_labels, test_labels) = train_test_split(eye_blinks_norm, labels_array, test_size = 0.2)"
   ]
  },
  {
   "cell_type": "code",
   "execution_count": 93,
   "metadata": {},
   "outputs": [],
   "source": [
    "train_data_array = np.asarray(train_data)\n",
    "test_data_array = np.asarray(test_data)"
   ]
  },
  {
   "cell_type": "code",
   "execution_count": 94,
   "metadata": {},
   "outputs": [],
   "source": [
    "train_data_array_image = train_data_array - train_data_array.min()\n",
    "train_data_array_image*= (255.0/train_data_array_image.max())"
   ]
  },
  {
   "cell_type": "code",
   "execution_count": 162,
   "metadata": {},
   "outputs": [
    {
     "data": {
      "text/plain": [
       "<Figure size 432x288 with 0 Axes>"
      ]
     },
     "metadata": {},
     "output_type": "display_data"
    }
   ],
   "source": [
    "fig=plt.figure()"
   ]
  },
  {
   "cell_type": "code",
   "execution_count": 95,
   "metadata": {},
   "outputs": [
    {
     "data": {
      "text/plain": [
       "Text(0.5, 1.0, 'Index: 6')"
      ]
     },
     "execution_count": 95,
     "metadata": {},
     "output_type": "execute_result"
    },
    {
     "data": {
      "image/png": "[encoded data removed]",
      "text/plain": [
       "<Figure size 432x288 with 6 Axes>"
      ]
     },
     "metadata": {
      "needs_background": "light"
     },
     "output_type": "display_data"
    }
   ],
   "source": [
    "plt.subplot(321)\n",
    "plt.imshow(train_data_array_image[0])\n",
    "plt.title('Index: 0')\n",
    "plt.subplot(322)\n",
    "plt.imshow(train_data_array_image[1])\n",
    "plt.title('Index: 1')\n",
    "plt.subplot(323)\n",
    "plt.imshow(train_data_array_image[2])\n",
    "plt.subplot(324)\n",
    "plt.imshow(train_data_array_image[3])\n",
    "plt.subplot(325)\n",
    "plt.imshow(train_data_array_image[4])\n",
    "plt.subplot(326)\n",
    "plt.imshow(train_data_array_image[6])\n",
    "plt.title('Index: 6')"
   ]
  },
  {
   "cell_type": "code",
   "execution_count": 140,
   "metadata": {},
   "outputs": [
    {
     "data": {
      "text/plain": [
       "array([[[118.77492171, 112.32415624, 134.88799205, ..., 133.80122511,\n",
       "         125.36311957, 165.8347843 ],\n",
       "        [118.77492171, 112.32415624,  95.87132983, ..., 170.4363923 ,\n",
       "         125.36311957, 165.8347843 ],\n",
       "        [166.51394311, 219.21065074, 138.62371497, ...,  59.97250846,\n",
       "         138.37104296, 165.8347843 ],\n",
       "        ...,\n",
       "        [120.76382073, 105.09102623, 178.11039803, ..., 184.6807399 ,\n",
       "         155.03097354, 165.8347843 ],\n",
       "        [118.77492171, 112.32415624,  78.31335809, ..., 205.19959646,\n",
       "         125.36311957, 165.8347843 ],\n",
       "        [118.77492171, 112.32415624, 134.88799205, ..., 133.80122511,\n",
       "         125.36311957, 165.8347843 ]],\n",
       "\n",
       "       [[125.73570389, 134.81853756, 119.57765019, ..., 125.52253488,\n",
       "         116.35743594, 165.79647434],\n",
       "        [125.73570389, 134.81853756, 193.35717681, ..., 201.71677839,\n",
       "         116.35743594, 165.79647434],\n",
       "        [227.36500525,  42.99995616, 161.53613548, ...,  88.1769265 ,\n",
       "         151.60959024, 165.79647434],\n",
       "        ...,\n",
       "        [ 82.6918104 , 106.1692775 ,  74.75218307, ..., 163.12372479,\n",
       "         164.91010007, 165.79647434],\n",
       "        [125.73570389, 134.81853756,  90.0847511 , ..., 208.79031613,\n",
       "         116.35743594, 165.79647434],\n",
       "        [125.73570389, 134.81853756, 119.57765019, ..., 125.52253488,\n",
       "         116.35743594, 165.79647434]],\n",
       "\n",
       "       [[121.26470972, 156.74226775, 120.41621257, ..., 125.77454175,\n",
       "         120.78844432, 164.47931799],\n",
       "        [121.26470972, 156.74226775, 195.84231286, ..., 198.23019275,\n",
       "         120.78844432, 164.47931799],\n",
       "        [215.81878742,  62.62172357, 155.50060129, ...,  83.62942681,\n",
       "         150.29256351, 164.47931799],\n",
       "        ...,\n",
       "        [ 96.28943292,  67.13532521, 140.60391661, ..., 163.63172134,\n",
       "         153.21051924, 164.47931799],\n",
       "        [121.26470972, 156.74226775,  65.29047488, ..., 211.7749693 ,\n",
       "         120.78844432, 164.47931799],\n",
       "        [121.26470972, 156.74226775, 120.41621257, ..., 125.77454175,\n",
       "         120.78844432, 164.47931799]],\n",
       "\n",
       "       ...,\n",
       "\n",
       "       [[138.25284199, 148.86810829, 129.44962025, ..., 105.06734158,\n",
       "          82.82855812, 120.63891313],\n",
       "        [138.25284199, 148.86810829, 187.90017126, ..., 150.73859653,\n",
       "          82.82855812, 120.63891313],\n",
       "        [192.23068596,  70.21935654, 189.75348792, ..., 132.64758595,\n",
       "          99.60647817, 120.63891313],\n",
       "        ...,\n",
       "        [ 76.92166962,  89.88557816, 100.17539001, ..., 101.71884093,\n",
       "         126.27655982, 120.63891313],\n",
       "        [138.25284199, 148.86810829,  71.98165852, ..., 247.13879711,\n",
       "          82.82855812, 120.63891313],\n",
       "        [138.25284199, 148.86810829, 129.44962025, ..., 105.06734158,\n",
       "          82.82855812, 120.63891313]],\n",
       "\n",
       "       [[128.78898568,  99.18664817, 130.93351611, ..., 154.48221271,\n",
       "         145.89939328, 162.50710032],\n",
       "        [128.78898568,  99.18664817,  44.19924034, ..., 156.00680285,\n",
       "         145.89939328, 162.50710032],\n",
       "        [ 53.89759424, 189.8794884 ,  97.44746632, ...,  93.36523067,\n",
       "         182.30461698, 162.50710032],\n",
       "        ...,\n",
       "        [154.39245326, 169.28643983, 150.19269322, ..., 218.85540936,\n",
       "         155.81053716, 162.50710032],\n",
       "        [128.78898568,  99.18664817, 156.19022166, ..., 136.55507894,\n",
       "         145.89939328, 162.50710032],\n",
       "        [128.78898568,  99.18664817, 130.93351611, ..., 154.48221271,\n",
       "         145.89939328, 162.50710032]],\n",
       "\n",
       "       [[128.03258027, 107.01878683, 126.77326428, ..., 138.69907283,\n",
       "         109.20695121, 161.13907084],\n",
       "        [128.03258027, 107.01878683,  51.913771  , ...,  59.72437344,\n",
       "         109.20695121, 161.13907084],\n",
       "        [ 86.1175812 , 221.1013609 ,  87.15763692, ...,  88.09878673,\n",
       "          69.00093478, 161.13907084],\n",
       "        ...,\n",
       "        [110.10081594, 111.46874949, 121.18111097, ..., 193.73427212,\n",
       "         151.49631838, 161.13907084],\n",
       "        [128.03258027, 107.01878683, 143.60797471, ..., 201.0267198 ,\n",
       "         109.20695121, 161.13907084],\n",
       "        [128.03258027, 107.01878683, 126.77326428, ..., 138.69907283,\n",
       "         109.20695121, 161.13907084]]])"
      ]
     },
     "execution_count": 140,
     "metadata": {},
     "output_type": "execute_result"
    }
   ],
   "source": [
    "train_data_array_image"
   ]
  },
  {
   "cell_type": "code",
   "execution_count": 96,
   "metadata": {},
   "outputs": [
    {
     "data": {
      "text/plain": [
       "(124, 15, 15)"
      ]
     },
     "execution_count": 96,
     "metadata": {},
     "output_type": "execute_result"
    }
   ],
   "source": [
    "train_data_array.shape"
   ]
  },
  {
   "cell_type": "code",
   "execution_count": 97,
   "metadata": {},
   "outputs": [
    {
     "data": {
      "text/plain": [
       "(31, 15, 15)"
      ]
     },
     "execution_count": 97,
     "metadata": {},
     "output_type": "execute_result"
    }
   ],
   "source": [
    "test_data_array.shape"
   ]
  },
  {
   "cell_type": "code",
   "execution_count": 98,
   "metadata": {},
   "outputs": [],
   "source": [
    "train_data_array_reshape = train_data_array.reshape(124, 15, 15, 1)"
   ]
  },
  {
   "cell_type": "code",
   "execution_count": 99,
   "metadata": {},
   "outputs": [],
   "source": [
    "test_data_array_reshape = test_data_array.reshape(31, 15, 15, 1)"
   ]
  },
  {
   "cell_type": "code",
   "execution_count": 100,
   "metadata": {},
   "outputs": [],
   "source": [
    "from keras.utils import to_categorical\n",
    "y_binary = to_categorical(train_labels)"
   ]
  },
  {
   "cell_type": "code",
   "execution_count": 101,
   "metadata": {},
   "outputs": [],
   "source": [
    "y_test_binary = to_categorical(test_labels)"
   ]
  },
  {
   "cell_type": "code",
   "execution_count": 102,
   "metadata": {},
   "outputs": [
    {
     "data": {
      "text/plain": [
       "[1,\n",
       " 2,\n",
       " 1,\n",
       " 2,\n",
       " 2,\n",
       " 1,\n",
       " 2,\n",
       " 2,\n",
       " 1,\n",
       " 2,\n",
       " 2,\n",
       " 1,\n",
       " 1,\n",
       " 2,\n",
       " 2,\n",
       " 2,\n",
       " 1,\n",
       " 2,\n",
       " 1,\n",
       " 1,\n",
       " 2,\n",
       " 1,\n",
       " 1,\n",
       " 2,\n",
       " 2,\n",
       " 1,\n",
       " 2,\n",
       " 2,\n",
       " 2,\n",
       " 2,\n",
       " 2]"
      ]
     },
     "execution_count": 102,
     "metadata": {},
     "output_type": "execute_result"
    }
   ],
   "source": [
    "test_labels"
   ]
  },
  {
   "cell_type": "code",
   "execution_count": 103,
   "metadata": {},
   "outputs": [
    {
     "data": {
      "text/plain": [
       "array([[0., 1., 0.],\n",
       "       [0., 0., 1.],\n",
       "       [0., 1., 0.],\n",
       "       [0., 0., 1.],\n",
       "       [0., 0., 1.],\n",
       "       [0., 1., 0.],\n",
       "       [0., 0., 1.],\n",
       "       [0., 0., 1.],\n",
       "       [0., 1., 0.],\n",
       "       [0., 0., 1.],\n",
       "       [0., 0., 1.],\n",
       "       [0., 1., 0.],\n",
       "       [0., 1., 0.],\n",
       "       [0., 0., 1.],\n",
       "       [0., 0., 1.],\n",
       "       [0., 0., 1.],\n",
       "       [0., 1., 0.],\n",
       "       [0., 0., 1.],\n",
       "       [0., 1., 0.],\n",
       "       [0., 1., 0.],\n",
       "       [0., 0., 1.],\n",
       "       [0., 1., 0.],\n",
       "       [0., 1., 0.],\n",
       "       [0., 0., 1.],\n",
       "       [0., 0., 1.],\n",
       "       [0., 1., 0.],\n",
       "       [0., 0., 1.],\n",
       "       [0., 0., 1.],\n",
       "       [0., 0., 1.],\n",
       "       [0., 0., 1.],\n",
       "       [0., 0., 1.]], dtype=float32)"
      ]
     },
     "execution_count": 103,
     "metadata": {},
     "output_type": "execute_result"
    }
   ],
   "source": [
    "y_test_binary"
   ]
  },
  {
   "cell_type": "code",
   "execution_count": 140,
   "metadata": {},
   "outputs": [],
   "source": [
    "model = Sequential()\n",
    "\n",
    "# Add the first convolution layer\n",
    "model.add(Convolution2D(\n",
    "    filters = 20,\n",
    "    kernel_size = (3, 3),\n",
    "    padding = \"same\",\n",
    "    input_shape = (15, 15, 1)))\n",
    "\n",
    "# Add a ReLU activation function\n",
    "model.add(Activation(\n",
    "    activation = \"relu\"))\n",
    "\n",
    "# Add a pooling layer\n",
    "model.add(MaxPooling2D(\n",
    "    pool_size = (2, 2),\n",
    "    strides =  (2, 2)))\n",
    "\n",
    "# Add the second convolution layer\n",
    "model.add(Convolution2D(\n",
    "    filters = 50,\n",
    "    kernel_size = (5, 5),\n",
    "    padding = \"same\"))\n",
    "\n",
    "# Add a ReLU activation function\n",
    "model.add(Activation(\n",
    "    activation = \"relu\"))\n",
    "\n",
    "# Add a second pooling layer\n",
    "model.add(MaxPooling2D(\n",
    "    pool_size = (2, 2),\n",
    "    strides = (2, 2)))\n",
    "\n",
    "# Flatten the network\n",
    "model.add(Flatten())\n",
    "\n",
    "# Add a fully-connected hidden layer\n",
    "model.add(Dense(200))\n",
    "\n",
    "# Add a ReLU activation function\n",
    "model.add(Activation(\n",
    "    activation = \"relu\"))\n",
    "\n",
    "# Add a fully-connected output layer\n",
    "model.add(Dense(3))\n",
    "\n",
    "# Add a softmax activation function\n",
    "model.add(Activation(\"sigmoid\"))\n",
    "\n",
    "# Compile the network\n",
    "model.compile(\n",
    "    loss = \"categorical_crossentropy\", \n",
    "    optimizer = SGD(lr = 0.01),\n",
    "    metrics = [\"accuracy\"])"
   ]
  },
  {
   "cell_type": "code",
   "execution_count": 141,
   "metadata": {},
   "outputs": [
    {
     "name": "stdout",
     "output_type": "stream",
     "text": [
      "_________________________________________________________________\n",
      "Layer (type)                 Output Shape              Param #   \n",
      "=================================================================\n",
      "conv2d_39 (Conv2D)           (None, 15, 15, 20)        200       \n",
      "_________________________________________________________________\n",
      "activation_39 (Activation)   (None, 15, 15, 20)        0         \n",
      "_________________________________________________________________\n",
      "max_pooling2d_27 (MaxPooling (None, 7, 7, 20)          0         \n",
      "_________________________________________________________________\n",
      "conv2d_40 (Conv2D)           (None, 7, 7, 50)          25050     \n",
      "_________________________________________________________________\n",
      "activation_40 (Activation)   (None, 7, 7, 50)          0         \n",
      "_________________________________________________________________\n",
      "max_pooling2d_28 (MaxPooling (None, 3, 3, 50)          0         \n",
      "_________________________________________________________________\n",
      "flatten_12 (Flatten)         (None, 450)               0         \n",
      "_________________________________________________________________\n",
      "dense_29 (Dense)             (None, 200)               90200     \n",
      "_________________________________________________________________\n",
      "activation_41 (Activation)   (None, 200)               0         \n",
      "_________________________________________________________________\n",
      "dense_30 (Dense)             (None, 3)                 603       \n",
      "_________________________________________________________________\n",
      "activation_42 (Activation)   (None, 3)                 0         \n",
      "=================================================================\n",
      "Total params: 116,053\n",
      "Trainable params: 116,053\n",
      "Non-trainable params: 0\n",
      "_________________________________________________________________\n"
     ]
    }
   ],
   "source": [
    "model.summary()"
   ]
  },
  {
   "cell_type": "code",
   "execution_count": 142,
   "metadata": {},
   "outputs": [
    {
     "name": "stdout",
     "output_type": "stream",
     "text": [
      "Epoch 1/5\n",
      "124/124 [==============================] - 1s 4ms/step - loss: 0.8033 - acc: 0.5242\n",
      "Epoch 2/5\n",
      "124/124 [==============================] - 0s 1ms/step - loss: 0.6851 - acc: 0.5726\n",
      "Epoch 3/5\n",
      "124/124 [==============================] - 0s 1ms/step - loss: 0.6395 - acc: 0.6694\n",
      "Epoch 4/5\n",
      "124/124 [==============================] - 0s 1ms/step - loss: 0.5195 - acc: 0.8468\n",
      "Epoch 5/5\n",
      "124/124 [==============================] - 0s 1ms/step - loss: 0.3613 - acc: 0.8629\n"
     ]
    },
    {
     "data": {
      "text/plain": [
       "<keras.callbacks.History at 0x1e65b599b0>"
      ]
     },
     "execution_count": 142,
     "metadata": {},
     "output_type": "execute_result"
    }
   ],
   "source": [
    "# Train the model \n",
    "model.fit(\n",
    "    train_data_array_reshape, \n",
    "    y_binary, \n",
    "    batch_size = 3, \n",
    "    epochs = 5)"
   ]
  },
  {
   "cell_type": "code",
   "execution_count": 143,
   "metadata": {},
   "outputs": [
    {
     "name": "stdout",
     "output_type": "stream",
     "text": [
      "31/31 [==============================] - 0s 5ms/step\n",
      "0.9032258093357086\n"
     ]
    }
   ],
   "source": [
    "# Evaluate the model\n",
    "(loss, accuracy) = model.evaluate(\n",
    "    test_data_array_reshape, \n",
    "    y_test_binary,\n",
    "    batch_size = 3, \n",
    "    verbose = 1)\n",
    "\n",
    "# Print the model's accuracy\n",
    "print(accuracy)"
   ]
  },
  {
   "cell_type": "code",
   "execution_count": 144,
   "metadata": {},
   "outputs": [],
   "source": [
    "predicted_array = model.predict(test_data_array_reshape)"
   ]
  },
  {
   "cell_type": "code",
   "execution_count": 145,
   "metadata": {},
   "outputs": [
    {
     "data": {
      "text/plain": [
       "array([1, 2, 1, 2, 2, 1, 2, 2, 1, 2, 2, 1, 1, 2, 2, 2, 2, 2, 2, 2, 2, 1,\n",
       "       1, 2, 2, 1, 2, 2, 2, 2, 2])"
      ]
     },
     "execution_count": 145,
     "metadata": {},
     "output_type": "execute_result"
    }
   ],
   "source": [
    "np.argmax(predicted_array, axis=1)"
   ]
  },
  {
   "cell_type": "code",
   "execution_count": 146,
   "metadata": {},
   "outputs": [
    {
     "data": {
      "text/plain": [
       "array([1, 2, 1, 2, 2, 1, 2, 2, 1, 2, 2, 1, 1, 2, 2, 2, 1, 2, 1, 1, 2, 1,\n",
       "       1, 2, 2, 1, 2, 2, 2, 2, 2])"
      ]
     },
     "execution_count": 146,
     "metadata": {},
     "output_type": "execute_result"
    }
   ],
   "source": [
    "np.argmax(y_test_binary, axis=1)"
   ]
  },
  {
   "cell_type": "code",
   "execution_count": 133,
   "metadata": {},
   "outputs": [],
   "source": [
    "model = Sequential()\n",
    "\n",
    "# Add the first convolution layer\n",
    "model.add(Convolution2D(\n",
    "    filters = 20,\n",
    "    kernel_size = (3, 3),\n",
    "    padding = \"same\",\n",
    "    input_shape = (15, 15, 1)))\n",
    "\n",
    "# Add a pooling layer\n",
    "model.add(MaxPooling2D(\n",
    "    pool_size = (2, 2)))\n",
    "\n",
    "# Add the second convolution layer\n",
    "model.add(Convolution2D(\n",
    "    filters = 50,\n",
    "    kernel_size = (5, 5),\n",
    "    padding = \"same\"))\n",
    "\n",
    "# Add a pooling layer\n",
    "model.add(MaxPooling2D(\n",
    "    pool_size = (2, 2)))\n",
    "\n",
    "# Add the second convolution layer\n",
    "model.add(Convolution2D(\n",
    "    filters = 50,\n",
    "    kernel_size = (4, 4),\n",
    "    padding = \"same\"))\n",
    "\n",
    "\n",
    "# Add the second convolution layer\n",
    "model.add(Convolution2D(\n",
    "    filters = 50,\n",
    "    kernel_size = (4, 4),\n",
    "    padding = \"same\"))\n",
    "\n",
    "# Add a ReLU activation function\n",
    "model.add(Activation(\n",
    "    activation = \"relu\"))\n",
    "\n",
    "# Flatten the network\n",
    "model.add(Flatten())\n",
    "\n",
    "# Add a fully-connected hidden layer\n",
    "model.add(Dense(200))\n",
    "\n",
    "# Add a fully-connected hidden layer\n",
    "model.add(Dense(50))\n",
    "\n",
    "# Add a ReLU activation function\n",
    "model.add(Activation(\n",
    "    activation = \"relu\"))\n",
    "\n",
    "# Add a fully-connected output layer\n",
    "model.add(Dense(3))\n",
    "\n",
    "# Add a softmax activation function\n",
    "model.add(Activation(\"sigmoid\"))\n",
    "\n",
    "# Compile the network\n",
    "model.compile(\n",
    "    loss = \"categorical_crossentropy\", \n",
    "    optimizer = SGD(lr = 0.01),\n",
    "    metrics = [\"accuracy\"])"
   ]
  },
  {
   "cell_type": "code",
   "execution_count": 134,
   "metadata": {},
   "outputs": [
    {
     "name": "stdout",
     "output_type": "stream",
     "text": [
      "_________________________________________________________________\n",
      "Layer (type)                 Output Shape              Param #   \n",
      "=================================================================\n",
      "conv2d_35 (Conv2D)           (None, 15, 15, 20)        200       \n",
      "_________________________________________________________________\n",
      "max_pooling2d_25 (MaxPooling (None, 7, 7, 20)          0         \n",
      "_________________________________________________________________\n",
      "conv2d_36 (Conv2D)           (None, 7, 7, 50)          25050     \n",
      "_________________________________________________________________\n",
      "max_pooling2d_26 (MaxPooling (None, 3, 3, 50)          0         \n",
      "_________________________________________________________________\n",
      "conv2d_37 (Conv2D)           (None, 3, 3, 50)          40050     \n",
      "_________________________________________________________________\n",
      "conv2d_38 (Conv2D)           (None, 3, 3, 50)          40050     \n",
      "_________________________________________________________________\n",
      "activation_36 (Activation)   (None, 3, 3, 50)          0         \n",
      "_________________________________________________________________\n",
      "flatten_11 (Flatten)         (None, 450)               0         \n",
      "_________________________________________________________________\n",
      "dense_26 (Dense)             (None, 200)               90200     \n",
      "_________________________________________________________________\n",
      "dense_27 (Dense)             (None, 50)                10050     \n",
      "_________________________________________________________________\n",
      "activation_37 (Activation)   (None, 50)                0         \n",
      "_________________________________________________________________\n",
      "dense_28 (Dense)             (None, 3)                 153       \n",
      "_________________________________________________________________\n",
      "activation_38 (Activation)   (None, 3)                 0         \n",
      "=================================================================\n",
      "Total params: 205,753\n",
      "Trainable params: 205,753\n",
      "Non-trainable params: 0\n",
      "_________________________________________________________________\n"
     ]
    }
   ],
   "source": [
    "model.summary()"
   ]
  },
  {
   "cell_type": "code",
   "execution_count": 135,
   "metadata": {},
   "outputs": [
    {
     "name": "stdout",
     "output_type": "stream",
     "text": [
      "Epoch 1/5\n",
      "124/124 [==============================] - 1s 4ms/step - loss: 0.8481 - acc: 0.4919\n",
      "Epoch 2/5\n",
      "124/124 [==============================] - 0s 1ms/step - loss: 0.6772 - acc: 0.6048\n",
      "Epoch 3/5\n",
      "124/124 [==============================] - 0s 1ms/step - loss: 0.6114 - acc: 0.6371\n",
      "Epoch 4/5\n",
      "124/124 [==============================] - 0s 1ms/step - loss: 0.4778 - acc: 0.8145\n",
      "Epoch 5/5\n",
      "124/124 [==============================] - 0s 1ms/step - loss: 0.2485 - acc: 0.9113\n"
     ]
    },
    {
     "data": {
      "text/plain": [
       "<keras.callbacks.History at 0x1e65a54eb8>"
      ]
     },
     "execution_count": 135,
     "metadata": {},
     "output_type": "execute_result"
    }
   ],
   "source": [
    "# Train the model \n",
    "model.fit(\n",
    "    train_data_array_reshape, \n",
    "    y_binary, \n",
    "    batch_size = 3, \n",
    "    epochs = 5)"
   ]
  },
  {
   "cell_type": "code",
   "execution_count": 136,
   "metadata": {},
   "outputs": [
    {
     "name": "stdout",
     "output_type": "stream",
     "text": [
      "31/31 [==============================] - 0s 5ms/step\n",
      "0.9354838719291072\n"
     ]
    }
   ],
   "source": [
    "# Evaluate the model\n",
    "(loss, accuracy) = model.evaluate(\n",
    "    test_data_array_reshape, \n",
    "    y_test_binary,\n",
    "    batch_size = 3, \n",
    "    verbose = 1)\n",
    "\n",
    "# Print the model's accuracy\n",
    "print(accuracy)"
   ]
  },
  {
   "cell_type": "code",
   "execution_count": 137,
   "metadata": {},
   "outputs": [],
   "source": [
    "predicted_array = model.predict(test_data_array_reshape)"
   ]
  },
  {
   "cell_type": "code",
   "execution_count": 138,
   "metadata": {},
   "outputs": [
    {
     "data": {
      "text/plain": [
       "array([1, 2, 1, 2, 2, 1, 2, 2, 1, 2, 2, 1, 1, 2, 2, 2, 1, 2, 2, 2, 2, 1,\n",
       "       1, 2, 2, 1, 2, 2, 2, 2, 2])"
      ]
     },
     "execution_count": 138,
     "metadata": {},
     "output_type": "execute_result"
    }
   ],
   "source": [
    "np.argmax(predicted_array, axis=1)"
   ]
  },
  {
   "cell_type": "code",
   "execution_count": 139,
   "metadata": {},
   "outputs": [
    {
     "data": {
      "text/plain": [
       "array([1, 2, 1, 2, 2, 1, 2, 2, 1, 2, 2, 1, 1, 2, 2, 2, 1, 2, 1, 1, 2, 1,\n",
       "       1, 2, 2, 1, 2, 2, 2, 2, 2])"
      ]
     },
     "execution_count": 139,
     "metadata": {},
     "output_type": "execute_result"
    }
   ],
   "source": [
    "np.argmax(y_test_binary, axis=1)"
   ]
  },
  {
   "cell_type": "code",
   "execution_count": 192,
   "metadata": {},
   "outputs": [],
   "source": [
    "def load_all_data_from_list(dir_list):\n",
    "    epochs_array = []\n",
    "    labels_array = []\n",
    "\n",
    "    for ds_file in dir_list:\n",
    "        print('Start loading data...')\n",
    "        print('From dataset: ' + ds_file)\n",
    "        eye_blinks, labels = load_data_events(ds_file)\n",
    "        eye_blinks_array += eye_blinks.tolist()\n",
    "        labels_array += labels.tolist()\n",
    "\n",
    "    return eye_blinks_array, labels_array"
   ]
  },
  {
   "cell_type": "code",
   "execution_count": 63,
   "metadata": {},
   "outputs": [
    {
     "name": "stdout",
     "output_type": "stream",
     "text": [
      "Start loading data...\n",
      "From dataset: sub-CC221980\n",
      "Opening raw data file /Users/mlion0200/GitRepo/eye_blink_detection/data/sub-CC221980/meg/passive_raw.fif...\n",
      "    Read a total of 8 projection items:\n",
      "        mag_ssp_upright.fif : PCA-mags-v1 (1 x 306)  idle\n",
      "        mag_ssp_upright.fif : PCA-mags-v2 (1 x 306)  idle\n",
      "        mag_ssp_upright.fif : PCA-mags-v3 (1 x 306)  idle\n",
      "        mag_ssp_upright.fif : PCA-mags-v4 (1 x 306)  idle\n",
      "        mag_ssp_upright.fif : PCA-mags-v5 (1 x 306)  idle\n",
      "        grad_ssp_upright.fif : PCA-grad-v1 (1 x 306)  idle\n",
      "        grad_ssp_upright.fif : PCA-grad-v2 (1 x 306)  idle\n",
      "        grad_ssp_upright.fif : PCA-grad-v3 (1 x 306)  idle\n",
      "    Range : 18000 ... 164999 =     18.000 ...   164.999 secs\n",
      "Ready.\n",
      "Current compensation grade : 0\n",
      "Reading 0 ... 146999  =      0.000 ...   146.999 secs...\n",
      "Filtering a subset of channels. The highpass and lowpass values in the measurement info will not be updated.\n",
      "Setting up band-pass filter from 0.5 - 25 Hz\n",
      "l_trans_bandwidth chosen to be 0.5 Hz\n",
      "h_trans_bandwidth chosen to be 6.2 Hz\n",
      "Filter length of 6601 samples (6.601 sec) selected\n",
      "Setting up band-stop filter from 59 - 61 Hz\n",
      "Filter length of 6601 samples (6.601 sec) selected\n",
      "Filtering a subset of channels. The highpass and lowpass values in the measurement info will not be updated.\n",
      "Setting up band-pass filter from 1 - 15 Hz\n"
     ]
    },
    {
     "ename": "IndexError",
     "evalue": "index 20126 is out of bounds for axis 0 with size 339",
     "output_type": "error",
     "traceback": [
      "\u001b[0;31m---------------------------------------------------------------------------\u001b[0m",
      "\u001b[0;31mIndexError\u001b[0m                                Traceback (most recent call last)",
      "\u001b[0;32m<ipython-input-63-77f7b7d1ced6>\u001b[0m in \u001b[0;36m<module>\u001b[0;34m\u001b[0m\n\u001b[1;32m      1\u001b[0m \u001b[0mdir_list\u001b[0m \u001b[0;34m=\u001b[0m \u001b[0mos\u001b[0m\u001b[0;34m.\u001b[0m\u001b[0mlistdir\u001b[0m\u001b[0;34m(\u001b[0m\u001b[0;34m'data'\u001b[0m\u001b[0;34m)\u001b[0m\u001b[0;34m\u001b[0m\u001b[0;34m\u001b[0m\u001b[0m\n\u001b[0;32m----> 2\u001b[0;31m \u001b[0meye_blinks_array\u001b[0m\u001b[0;34m,\u001b[0m \u001b[0mlabels_array\u001b[0m \u001b[0;34m=\u001b[0m \u001b[0mload_all_data_from_list\u001b[0m\u001b[0;34m(\u001b[0m\u001b[0mdir_list\u001b[0m\u001b[0;34m)\u001b[0m\u001b[0;34m\u001b[0m\u001b[0;34m\u001b[0m\u001b[0m\n\u001b[0m",
      "\u001b[0;32m<ipython-input-43-aa114536c6c3>\u001b[0m in \u001b[0;36mload_all_data_from_list\u001b[0;34m(dir_list)\u001b[0m\n\u001b[1;32m      6\u001b[0m         \u001b[0mprint\u001b[0m\u001b[0;34m(\u001b[0m\u001b[0;34m'Start loading data...'\u001b[0m\u001b[0;34m)\u001b[0m\u001b[0;34m\u001b[0m\u001b[0;34m\u001b[0m\u001b[0m\n\u001b[1;32m      7\u001b[0m         \u001b[0mprint\u001b[0m\u001b[0;34m(\u001b[0m\u001b[0;34m'From dataset: '\u001b[0m \u001b[0;34m+\u001b[0m \u001b[0mds_file\u001b[0m\u001b[0;34m)\u001b[0m\u001b[0;34m\u001b[0m\u001b[0;34m\u001b[0m\u001b[0m\n\u001b[0;32m----> 8\u001b[0;31m         \u001b[0meye_blinks\u001b[0m\u001b[0;34m,\u001b[0m \u001b[0mlabels\u001b[0m \u001b[0;34m=\u001b[0m \u001b[0mload_data_events\u001b[0m\u001b[0;34m(\u001b[0m\u001b[0mds_file\u001b[0m\u001b[0;34m)\u001b[0m\u001b[0;34m\u001b[0m\u001b[0;34m\u001b[0m\u001b[0m\n\u001b[0m\u001b[1;32m      9\u001b[0m         \u001b[0meye_blinks_array\u001b[0m \u001b[0;34m+=\u001b[0m \u001b[0meye_blinks\u001b[0m\u001b[0;34m.\u001b[0m\u001b[0mtolist\u001b[0m\u001b[0;34m(\u001b[0m\u001b[0;34m)\u001b[0m\u001b[0;34m\u001b[0m\u001b[0;34m\u001b[0m\u001b[0m\n\u001b[1;32m     10\u001b[0m         \u001b[0mlabels_array\u001b[0m \u001b[0;34m+=\u001b[0m \u001b[0mlabels\u001b[0m\u001b[0;34m.\u001b[0m\u001b[0mtolist\u001b[0m\u001b[0;34m(\u001b[0m\u001b[0;34m)\u001b[0m\u001b[0;34m\u001b[0m\u001b[0;34m\u001b[0m\u001b[0m\n",
      "\u001b[0;32m<ipython-input-62-09098c1c5c8b>\u001b[0m in \u001b[0;36mload_data_events\u001b[0;34m(dir_name)\u001b[0m\n\u001b[1;32m     16\u001b[0m     \u001b[0;32mfor\u001b[0m \u001b[0mi\u001b[0m \u001b[0;32min\u001b[0m \u001b[0meye_blink_peaks\u001b[0m\u001b[0;34m:\u001b[0m\u001b[0;34m\u001b[0m\u001b[0;34m\u001b[0m\u001b[0m\n\u001b[1;32m     17\u001b[0m         \u001b[0;32mif\u001b[0m \u001b[0mi\u001b[0m \u001b[0;34m>=\u001b[0m \u001b[0mraw\u001b[0m\u001b[0;34m.\u001b[0m\u001b[0mfirst_samp\u001b[0m \u001b[0;32mand\u001b[0m \u001b[0mi\u001b[0m \u001b[0;34m<=\u001b[0m \u001b[0mraw\u001b[0m\u001b[0;34m.\u001b[0m\u001b[0mlast_samp\u001b[0m\u001b[0;34m:\u001b[0m\u001b[0;34m\u001b[0m\u001b[0;34m\u001b[0m\u001b[0m\n\u001b[0;32m---> 18\u001b[0;31m             \u001b[0meye_blink_image\u001b[0m \u001b[0;34m=\u001b[0m \u001b[0mconvert_to_image\u001b[0m\u001b[0;34m(\u001b[0m\u001b[0mraw\u001b[0m\u001b[0;34m[\u001b[0m\u001b[0mi\u001b[0m\u001b[0;34m]\u001b[0m\u001b[0;34m)\u001b[0m\u001b[0;34m\u001b[0m\u001b[0;34m\u001b[0m\u001b[0m\n\u001b[0m\u001b[1;32m     19\u001b[0m             \u001b[0meye_blinks\u001b[0m\u001b[0;34m.\u001b[0m\u001b[0mappend\u001b[0m\u001b[0;34m(\u001b[0m\u001b[0meye_blink_image\u001b[0m\u001b[0;34m)\u001b[0m\u001b[0;34m\u001b[0m\u001b[0;34m\u001b[0m\u001b[0m\n\u001b[1;32m     20\u001b[0m             \u001b[0mlabels\u001b[0m\u001b[0;34m.\u001b[0m\u001b[0mappend\u001b[0m\u001b[0;34m(\u001b[0m\u001b[0;36m1\u001b[0m\u001b[0;34m)\u001b[0m\u001b[0;34m\u001b[0m\u001b[0;34m\u001b[0m\u001b[0m\n",
      "\u001b[0;32m/anaconda3/envs/mne/lib/python3.6/site-packages/mne/io/base.py\u001b[0m in \u001b[0;36m__getitem__\u001b[0;34m(self, item)\u001b[0m\n\u001b[1;32m    842\u001b[0m         \u001b[0msel\u001b[0m\u001b[0;34m,\u001b[0m \u001b[0mstart\u001b[0m\u001b[0;34m,\u001b[0m \u001b[0mstop\u001b[0m \u001b[0;34m=\u001b[0m \u001b[0mself\u001b[0m\u001b[0;34m.\u001b[0m\u001b[0m_parse_get_set_params\u001b[0m\u001b[0;34m(\u001b[0m\u001b[0mitem\u001b[0m\u001b[0;34m)\u001b[0m\u001b[0;34m\u001b[0m\u001b[0;34m\u001b[0m\u001b[0m\n\u001b[1;32m    843\u001b[0m         \u001b[0;32mif\u001b[0m \u001b[0mself\u001b[0m\u001b[0;34m.\u001b[0m\u001b[0mpreload\u001b[0m\u001b[0;34m:\u001b[0m\u001b[0;34m\u001b[0m\u001b[0;34m\u001b[0m\u001b[0m\n\u001b[0;32m--> 844\u001b[0;31m             \u001b[0mdata\u001b[0m \u001b[0;34m=\u001b[0m \u001b[0mself\u001b[0m\u001b[0;34m.\u001b[0m\u001b[0m_data\u001b[0m\u001b[0;34m[\u001b[0m\u001b[0msel\u001b[0m\u001b[0;34m,\u001b[0m \u001b[0mstart\u001b[0m\u001b[0;34m:\u001b[0m\u001b[0mstop\u001b[0m\u001b[0;34m]\u001b[0m\u001b[0;34m\u001b[0m\u001b[0;34m\u001b[0m\u001b[0m\n\u001b[0m\u001b[1;32m    845\u001b[0m         \u001b[0;32melse\u001b[0m\u001b[0;34m:\u001b[0m\u001b[0;34m\u001b[0m\u001b[0;34m\u001b[0m\u001b[0m\n\u001b[1;32m    846\u001b[0m             data = self._read_segment(start=start, stop=stop, sel=sel,\n",
      "\u001b[0;31mIndexError\u001b[0m: index 20126 is out of bounds for axis 0 with size 339"
     ]
    }
   ],
   "source": [
    "dir_list = os.listdir('data')\n",
    "eye_blinks_array, labels_array = load_all_data_from_list(dir_list)"
   ]
  },
  {
   "cell_type": "code",
   "execution_count": 19,
   "metadata": {},
   "outputs": [],
   "source": [
    "def convert_to_image(raw, time_point, ch_type, channel_image):\n",
    "    data_image = [[0 for i in range(15)] for j in range(15)]\n",
    "    for i in range(0, len(channel_image)):\n",
    "        for j in range(0, len(channel_image[i])):\n",
    "            if channel_image[i][j] == 0:\n",
    "                continue\n",
    "            channel_name = [channel_image[i][j][0]]\n",
    "            picks = mne.pick_channels(raw.info['ch_names'], include=channel_name)\n",
    "            channel_raw_data = raw.copy().get_data(picks=picks).T[time_point]\n",
    "            len(channel_raw_data)\n",
    "            del channel_name\n",
    "            data_image[i][j] = channel_raw_data\n",
    "    \n",
    "    return data_image"
   ]
  },
  {
   "cell_type": "code",
   "execution_count": 29,
   "metadata": {},
   "outputs": [],
   "source": [
    "picks = mne.pick_channels(raw.info['ch_names'], include=['MEG1543'])\n",
    "channel_raw_data = raw.copy().get_data(picks=picks)"
   ]
  },
  {
   "cell_type": "code",
   "execution_count": 30,
   "metadata": {},
   "outputs": [
    {
     "data": {
      "text/plain": [
       "array([[-3.43418126e-11, -2.58493427e-11, -2.60353092e-11, ...,\n",
       "        -7.41944324e-10,  5.89513787e-10,  3.24263577e-10]])"
      ]
     },
     "execution_count": 30,
     "metadata": {},
     "output_type": "execute_result"
    }
   ],
   "source": [
    "channel_raw_data"
   ]
  },
  {
   "cell_type": "code",
   "execution_count": 25,
   "metadata": {},
   "outputs": [],
   "source": [
    "## Not sure what this does\n",
    "# layout = mne.channels.make_grid_layout(raw.info, picks=None)"
   ]
  },
  {
   "cell_type": "code",
   "execution_count": 26,
   "metadata": {},
   "outputs": [
    {
     "name": "stdout",
     "output_type": "stream",
     "text": [
      "len: 1\n",
      "len: 1\n",
      "len: 1\n",
      "len: 1\n",
      "len: 1\n",
      "len: 1\n",
      "len: 1\n",
      "len: 1\n",
      "len: 1\n",
      "len: 1\n",
      "len: 1\n",
      "len: 1\n",
      "len: 1\n",
      "len: 1\n",
      "len: 1\n",
      "len: 1\n",
      "len: 1\n",
      "len: 1\n",
      "len: 1\n",
      "len: 1\n",
      "len: 1\n",
      "len: 1\n",
      "len: 1\n",
      "len: 1\n",
      "len: 1\n",
      "len: 1\n",
      "len: 1\n",
      "len: 1\n",
      "len: 1\n",
      "len: 1\n",
      "len: 1\n",
      "len: 1\n",
      "len: 1\n",
      "len: 1\n",
      "len: 1\n",
      "len: 1\n",
      "len: 1\n",
      "len: 1\n",
      "len: 1\n",
      "len: 1\n",
      "len: 1\n",
      "len: 1\n",
      "len: 1\n",
      "len: 1\n",
      "len: 1\n",
      "len: 1\n",
      "len: 1\n",
      "len: 1\n",
      "len: 1\n",
      "len: 1\n",
      "len: 1\n",
      "len: 1\n",
      "len: 1\n",
      "len: 1\n",
      "len: 1\n",
      "len: 1\n",
      "len: 1\n",
      "len: 1\n",
      "len: 1\n",
      "len: 1\n",
      "len: 1\n",
      "len: 1\n",
      "len: 1\n",
      "len: 1\n",
      "len: 1\n",
      "len: 1\n",
      "len: 1\n",
      "len: 1\n",
      "len: 1\n",
      "len: 1\n",
      "len: 1\n",
      "len: 1\n",
      "len: 1\n",
      "len: 1\n",
      "len: 1\n",
      "len: 1\n",
      "len: 1\n",
      "len: 1\n",
      "len: 1\n",
      "len: 1\n",
      "len: 1\n",
      "len: 1\n",
      "len: 1\n",
      "len: 1\n",
      "len: 1\n",
      "len: 1\n",
      "len: 1\n",
      "len: 1\n",
      "len: 1\n",
      "len: 1\n",
      "len: 1\n",
      "len: 1\n",
      "len: 1\n",
      "len: 1\n",
      "len: 1\n",
      "len: 1\n",
      "len: 1\n",
      "len: 1\n",
      "len: 1\n",
      "len: 1\n",
      "len: 1\n",
      "len: 1\n",
      "len: 1\n",
      "len: 1\n",
      "len: 1\n",
      "len: 1\n",
      "len: 1\n",
      "len: 1\n",
      "len: 1\n",
      "len: 1\n",
      "len: 1\n",
      "len: 1\n",
      "len: 1\n",
      "len: 1\n",
      "len: 1\n",
      "len: 1\n",
      "len: 1\n",
      "len: 1\n",
      "len: 1\n",
      "len: 1\n",
      "len: 1\n",
      "len: 1\n",
      "len: 1\n",
      "len: 1\n",
      "len: 1\n",
      "len: 1\n",
      "len: 1\n",
      "len: 1\n",
      "len: 1\n",
      "len: 1\n",
      "len: 1\n",
      "len: 1\n",
      "len: 1\n",
      "len: 1\n",
      "len: 1\n",
      "len: 1\n",
      "len: 1\n",
      "len: 1\n",
      "len: 1\n",
      "len: 1\n",
      "len: 1\n",
      "len: 1\n",
      "len: 1\n",
      "len: 1\n",
      "len: 1\n",
      "len: 1\n",
      "len: 1\n",
      "len: 1\n",
      "len: 1\n",
      "len: 1\n",
      "len: 1\n",
      "len: 1\n",
      "len: 1\n",
      "len: 1\n",
      "len: 1\n",
      "len: 1\n",
      "len: 1\n",
      "len: 1\n",
      "len: 1\n",
      "len: 1\n",
      "len: 1\n",
      "len: 1\n",
      "len: 1\n",
      "len: 1\n",
      "len: 1\n",
      "len: 1\n",
      "len: 1\n",
      "len: 1\n",
      "len: 1\n",
      "len: 1\n",
      "len: 1\n",
      "len: 1\n",
      "len: 1\n",
      "len: 1\n",
      "len: 1\n",
      "len: 1\n",
      "len: 1\n",
      "len: 1\n",
      "len: 1\n",
      "len: 1\n",
      "len: 1\n",
      "len: 1\n",
      "len: 1\n",
      "len: 1\n",
      "len: 1\n",
      "len: 1\n",
      "len: 1\n",
      "len: 1\n",
      "len: 1\n",
      "len: 1\n",
      "len: 1\n",
      "len: 1\n",
      "len: 1\n",
      "len: 1\n",
      "len: 1\n",
      "len: 1\n",
      "len: 1\n",
      "len: 1\n",
      "len: 1\n",
      "len: 1\n",
      "len: 1\n",
      "len: 1\n",
      "len: 1\n"
     ]
    }
   ],
   "source": [
    "data_image = convert_to_image(raw, 'grad', channel_image)"
   ]
  },
  {
   "cell_type": "code",
   "execution_count": 174,
   "metadata": {},
   "outputs": [
    {
     "data": {
      "text/plain": [
       "{'MEG1533': [0.07129470931078981, 0.266302130525918],\n",
       " 'MEG1532': [0.07129470931078981, 0.304069053339759],\n",
       " 'MEG1543': [0.03152389623260022, 0.4040458100336345],\n",
       " 'MEG1542': [0.03152389623260022, 0.4418127328474753],\n",
       " 'MEG1512': [0.07325235775484526, 0.48105909932870283],\n",
       " 'MEG0143': [0.028252427184466015, 0.5599149537006284],\n",
       " 'MEG0142': [0.028252427184466015, 0.5976818765144694],\n",
       " 'MEG0113': [0.0629897705374108, 0.7163991694725684],\n",
       " 'MEG0112': [0.0629897705374108, 0.7541660922864094]}"
      ]
     },
     "execution_count": 174,
     "metadata": {},
     "output_type": "execute_result"
    }
   ],
   "source": [
    "dict(sorted(sorted_pos[0:9], key=lambda e:e[1][1]))"
   ]
  },
  {
   "cell_type": "code",
   "execution_count": 21,
   "metadata": {},
   "outputs": [
    {
     "data": {
      "text/plain": [
       "15"
      ]
     },
     "execution_count": 21,
     "metadata": {},
     "output_type": "execute_result"
    }
   ],
   "source": [
    "len(data_image[0])"
   ]
  },
  {
   "cell_type": "code",
   "execution_count": 16,
   "metadata": {},
   "outputs": [
    {
     "data": {
      "text/plain": [
       "[[0,\n",
       "  0,\n",
       "  0,\n",
       "  ('MEG1533', [0.07129470931078981, 0.266302130525918]),\n",
       "  ('MEG1532', [0.07129470931078981, 0.304069053339759]),\n",
       "  ('MEG1543', [0.03152389623260022, 0.4040458100336345]),\n",
       "  ('MEG1542', [0.03152389623260022, 0.4418127328474753]),\n",
       "  ('MEG1512', [0.07325235775484526, 0.48105909932870283]),\n",
       "  ('MEG0143', [0.028252427184466015, 0.5599149537006284]),\n",
       "  ('MEG0142', [0.028252427184466015, 0.5976818765144694]),\n",
       "  ('MEG0113', [0.0629897705374108, 0.7163991694725684]),\n",
       "  ('MEG0112', [0.0629897705374108, 0.7541660922864094]),\n",
       "  0,\n",
       "  0,\n",
       "  0],\n",
       " [0,\n",
       "  0,\n",
       "  ('MEG1722', [0.14164551309211484, 0.2426420673425788]),\n",
       "  ('MEG1723', [0.14164551309211484, 0.28040899015641974]),\n",
       "  ('MEG1522', [0.09272471123581737, 0.3556369765830014]),\n",
       "  ('MEG1523', [0.09272471123581737, 0.3934038993968423]),\n",
       "  ('MEG0243', [0.13150614423705279, 0.4928465033945925]),\n",
       "  ('MEG1513', [0.07325235775484526, 0.5188260221425438]),\n",
       "  ('MEG0242', [0.13150614423705279, 0.5306134262084333]),\n",
       "  ('MEG0132', [0.08915398464469083, 0.6253071115841873]),\n",
       "  ('MEG0133', [0.08915398464469083, 0.6630740343980283]),\n",
       "  ('MEG0122', [0.1299473144979115, 0.7477467049014342]),\n",
       "  ('MEG0123', [0.1299473144979115, 0.7855136277152751]),\n",
       "  0,\n",
       "  0],\n",
       " [('MEG1713', [0.14354924547716125, 0.1516082007288693]),\n",
       "  ('MEG1712', [0.14354924547716125, 0.1893751235427102]),\n",
       "  ('MEG1643', [0.18202038544055818, 0.2903936430354826]),\n",
       "  ('MEG1642', [0.18202038544055818, 0.32816056584932357]),\n",
       "  ('MEG1613', [0.14296556523845794, 0.3865110583140881]),\n",
       "  ('MEG1622', [0.19766343731666652, 0.41069639896669147]),\n",
       "  ('MEG1612', [0.14296556523845794, 0.4242779811279291]),\n",
       "  ('MEG1623', [0.19766343731666652, 0.44846332178053244]),\n",
       "  ('MEG0232', [0.18901312003415488, 0.5085429199326368]),\n",
       "  ('MEG0233', [0.18901312003415488, 0.5463098427464776]),\n",
       "  ('MEG0213', [0.14452295983453228, 0.6150623352475518]),\n",
       "  ('MEG0212', [0.14452295983453228, 0.6528292580613928]),\n",
       "  ('MEG0343', [0.1780196748798115, 0.7204888135831572]),\n",
       "  ('MEG0342', [0.1780196748798115, 0.7582557363969982]),\n",
       "  0],\n",
       " [('MEG1743', [0.237524188544845, 0.07062083410702254]),\n",
       "  ('MEG1742', [0.237524188544845, 0.10838775692086343]),\n",
       "  ('MEG1732', [0.21573735717968773, 0.15647195345637327]),\n",
       "  ('MEG1733', [0.21573735717968773, 0.19423887627021416]),\n",
       "  ('MEG1943', [0.2431979435727066, 0.21606086108712658]),\n",
       "  ('MEG1942', [0.2431979435727066, 0.25382778390096744]),\n",
       "  ('MEG1632', [0.23515897457655172, 0.32430957847738]),\n",
       "  ('MEG1633', [0.23515897457655172, 0.362076501291221]),\n",
       "  ('MEG0443', [0.2500465142685383, 0.5121234508169258]),\n",
       "  ('MEG0222', [0.20266588529151205, 0.6183045198237362]),\n",
       "  ('MEG0223', [0.20266588529151205, 0.6560714426375772]),\n",
       "  ('MEG0322', [0.23458588418300538, 0.7123938815607769]),\n",
       "  ('MEG0323', [0.23458588418300538, 0.7501608043746176]),\n",
       "  ('MEG0313', [0.22597664220574606, 0.8030029080597535]),\n",
       "  ('MEG0312', [0.22597664220574606, 0.8407698308735944])],\n",
       " [('MEG1912', [0.2934660350800805, 0.2620748335350575]),\n",
       "  ('MEG1913', [0.2934660350800805, 0.29984175634889837]),\n",
       "  ('MEG1843', [0.300170963061682, 0.34689550505558625]),\n",
       "  ('MEG1842', [0.300170963061682, 0.3846624278694272]),\n",
       "  ('MEG1813', [0.2550075168222879, 0.42615692330484056]),\n",
       "  ('MEG1812', [0.2550075168222879, 0.46392384611868137]),\n",
       "  ('MEG0442', [0.2500465142685383, 0.5498903736307668]),\n",
       "  ('MEG0413', [0.2589005840996306, 0.6063367182743341]),\n",
       "  ('MEG0412', [0.2589005840996306, 0.6441036410881749]),\n",
       "  ('MEG0333', [0.28467752862699297, 0.688288501037155]),\n",
       "  ('MEG0332', [0.28467752862699297, 0.7260554238509958]),\n",
       "  ('MEG0542', [0.2868077719083077, 0.7809604928211457]),\n",
       "  ('MEG0543', [0.2868077719083077, 0.8187274156349866]),\n",
       "  ('MEG0513', [0.28379762730589153, 0.8525019139509462]),\n",
       "  ('MEG0512', [0.28379762730589153, 0.8902688367647872])],\n",
       " [('MEG2143', [0.34620106198565437, 0.028330536734229687]),\n",
       "  ('MEG1932', [0.3052849140994432, 0.10135829777152257]),\n",
       "  ('MEG1933', [0.3052849140994432, 0.13912522058536347]),\n",
       "  ('MEG1923', [0.3194141393016352, 0.16813102551854148]),\n",
       "  ('MEG1922', [0.3194141393016352, 0.20589794833238237]),\n",
       "  ('MEG1822', [0.3137351875451944, 0.43311933105941763]),\n",
       "  ('MEG1823', [0.3137351875451944, 0.4708862538732586]),\n",
       "  ('MEG0432', [0.31254361091687943, 0.509354259182062]),\n",
       "  ('MEG0433', [0.31254361091687943, 0.5471211819959028]),\n",
       "  ('MEG0422', [0.31664514405477, 0.5961163318164517]),\n",
       "  ('MEG0423', [0.31664514405477, 0.6338832546302926]),\n",
       "  ('MEG0642', [0.3451738092385025, 0.674465845054212]),\n",
       "  ('MEG0643', [0.3451738092385025, 0.7122327678680529]),\n",
       "  ('MEG0523', [0.34368241611673767, 0.8783359167452959]),\n",
       "  ('MEG0522', [0.34368241611673767, 0.9161028395591366])],\n",
       " [('MEG2142', [0.34620106198565437, 0.06609745954807053]),\n",
       "  ('MEG2042', [0.36724718580043303, 0.22939154247334276]),\n",
       "  ('MEG2043', [0.36724718580043303, 0.2671584652871836]),\n",
       "  ('MEG2013', [0.3682318676721891, 0.30171071295141777]),\n",
       "  ('MEG2012', [0.3682318676721891, 0.33947763576525875]),\n",
       "  ('MEG1832', [0.3723122362265347, 0.3751277754290757]),\n",
       "  ('MEG1833', [0.3723122362265347, 0.41289469824291664]),\n",
       "  ('MEG0743', [0.3731712146723973, 0.4458408017671083]),\n",
       "  ('MEG0742', [0.3731712146723973, 0.48360772458094925]),\n",
       "  ('MEG0713', [0.37402460361368345, 0.5203506954766922]),\n",
       "  ('MEG0712', [0.37402460361368345, 0.5581176182905332]),\n",
       "  ('MEG0613', [0.34719319149458944, 0.745637822591663]),\n",
       "  ('MEG0612', [0.34719319149458944, 0.7834047454055038]),\n",
       "  ('MEG0532', [0.3479993113552818, 0.8146105189128954]),\n",
       "  ('MEG0533', [0.3479993113552818, 0.8523774417267364])],\n",
       " [('MEG2122', [0.40430359194199256, 0.08326551710724811]),\n",
       "  ('MEG2123', [0.40430359194199256, 0.12103243992108902]),\n",
       "  ('MEG2113', [0.40404982843422177, 0.15277611260334908]),\n",
       "  ('MEG2112', [0.40404982843422177, 0.19054303541718998]),\n",
       "  ('MEG0633', [0.3747617006462412, 0.600734886574279]),\n",
       "  ('MEG1043', [0.4343581692149418, 0.6013202134508171]),\n",
       "  ('MEG0632', [0.3747617006462412, 0.63850180938812]),\n",
       "  ('MEG0622', [0.4044622054644261, 0.6783563592875725]),\n",
       "  ('MEG0623', [0.4044622054644261, 0.7161232821014135]),\n",
       "  ('MEG1013', [0.4044631194239582, 0.7550446566584433]),\n",
       "  ('MEG1012', [0.4044631194239582, 0.7928115794722841]),\n",
       "  ('MEG0822', [0.4044705897212908, 0.8228513445581058]),\n",
       "  ('MEG0823', [0.4044705897212908, 0.8606182673719467]),\n",
       "  ('MEG0813', [0.4044857946844156, 0.8869127698095499]),\n",
       "  ('MEG0812', [0.4044857946844156, 0.9246796926233908])],\n",
       " [('MEG2032', [0.44136103289723716, 0.22911032241268633]),\n",
       "  ('MEG2033', [0.44136103289723716, 0.2668772452265272]),\n",
       "  ('MEG2023', [0.43996666300018106, 0.30182284294525213]),\n",
       "  ('MEG2022', [0.43996666300018106, 0.3395897657590931]),\n",
       "  ('MEG2242', [0.43649650972450776, 0.3750358054186395]),\n",
       "  ('MEG2243', [0.43649650972450776, 0.41280272823248043]),\n",
       "  ('MEG0733', [0.43526280031710174, 0.4454278053593699]),\n",
       "  ('MEG0732', [0.43526280031710174, 0.4831947281732108]),\n",
       "  ('MEG0723', [0.43491066908217, 0.519609338335241]),\n",
       "  ('MEG0722', [0.43491066908217, 0.5573762611490819]),\n",
       "  ('MEG1042', [0.4343581692149418, 0.6390871362646581]),\n",
       "  ('MEG1023', [0.4612618445641477, 0.7456764581537015]),\n",
       "  ('MEG1022', [0.4612618445641477, 0.7834433809675424]),\n",
       "  ('MEG0942', [0.46083004022884794, 0.8149174431412191]),\n",
       "  ('MEG0943', [0.46083004022884794, 0.8526843659550599])],\n",
       " [('MEG2133', [0.46207399957910567, 0.028252427184466015]),\n",
       "  ('MEG2132', [0.46207399957910567, 0.06601934999830697]),\n",
       "  ('MEG2332', [0.5030062361744357, 0.10142195014323299]),\n",
       "  ('MEG2343', [0.4883032936477785, 0.16797934600313655]),\n",
       "  ('MEG2342', [0.4883032936477785, 0.20574626881697744]),\n",
       "  ('MEG2212', [0.49466045625072574, 0.43336289749802875]),\n",
       "  ('MEG2213', [0.49466045625072574, 0.47112982031186956]),\n",
       "  ('MEG1142', [0.49583113266395545, 0.5101156403459891]),\n",
       "  ('MEG1143', [0.49583113266395545, 0.54788256315983]),\n",
       "  ('MEG1112', [0.49162376905495603, 0.5958608687971544]),\n",
       "  ('MEG1113', [0.49162376905495603, 0.6336277916109951]),\n",
       "  ('MEG1032', [0.4630693015095571, 0.6745727178923906]),\n",
       "  ('MEG1033', [0.4630693015095571, 0.7123396407062316]),\n",
       "  ('MEG0913', [0.46491564327869556, 0.8785546174419262]),\n",
       "  ('MEG0912', [0.46491564327869556, 0.9163215402557672])],\n",
       " [('MEG2333', [0.5030062361744357, 0.1391888729570739]),\n",
       "  ('MEG2312', [0.5150731456826859, 0.2619465241914897]),\n",
       "  ('MEG2313', [0.5150731456826859, 0.2997134470053306]),\n",
       "  ('MEG2233', [0.5085234170936956, 0.34629563036038036]),\n",
       "  ('MEG2232', [0.5085234170936956, 0.3840625531742212]),\n",
       "  ('MEG2223', [0.5535285670528077, 0.4267551513622117]),\n",
       "  ('MEG2222', [0.5535285670528077, 0.4645220741760527]),\n",
       "  ('MEG1123', [0.5495153178736869, 0.6060572732590498]),\n",
       "  ('MEG1122', [0.5495153178736869, 0.6438241960728907]),\n",
       "  ('MEG1243', [0.5235424158906127, 0.6884744351515522]),\n",
       "  ('MEG1242', [0.5235424158906127, 0.726241357965393]),\n",
       "  ('MEG0932', [0.5218658968665989, 0.7811227168614003]),\n",
       "  ('MEG0933', [0.5218658968665989, 0.8188896396752412]),\n",
       "  ('MEG0923', [0.525322423836521, 0.8523107906613545]),\n",
       "  ('MEG0922', [0.525322423836521, 0.8900777134751955])],\n",
       " [('MEG2543', [0.5706566067805718, 0.07040384047530332]),\n",
       "  ('MEG2542', [0.5706566067805718, 0.10817076328914423]),\n",
       "  ('MEG2512', [0.5924319872147319, 0.15634251865850565]),\n",
       "  ('MEG2513', [0.5924319872147319, 0.19410944147234654]),\n",
       "  ('MEG2323', [0.5646400640544827, 0.21587648296994943]),\n",
       "  ('MEG2322', [0.5646400640544827, 0.25364340578379035]),\n",
       "  ('MEG2442', [0.5734482244142025, 0.3243096389044565]),\n",
       "  ('MEG2443', [0.5734482244142025, 0.36207656171829744]),\n",
       "  ('MEG1133', [0.5582354057694048, 0.5112863922930643]),\n",
       "  ('MEG1132', [0.5582354057694048, 0.5490533151069052]),\n",
       "  ('MEG1312', [0.6059412834857039, 0.6183044971635826]),\n",
       "  ('MEG1232', [0.5740212845942105, 0.7123938815607769]),\n",
       "  ('MEG1233', [0.5740212845942105, 0.7501608043746176]),\n",
       "  ('MEG1213', [0.583446737753938, 0.8027473543998412]),\n",
       "  ('MEG1212', [0.583446737753938, 0.8405142772136822])],\n",
       " [('MEG2533', [0.6646148191014489, 0.15130294579853415]),\n",
       "  ('MEG2532', [0.6646148191014489, 0.18906986861237504]),\n",
       "  ('MEG2433', [0.625787476628841, 0.28977269439734665]),\n",
       "  ('MEG2432', [0.625787476628841, 0.3275396172111875]),\n",
       "  ('MEG2423', [0.665136554033353, 0.38596736569326007]),\n",
       "  ('MEG2412', [0.6110068928622632, 0.4115767308307129]),\n",
       "  ('MEG2413', [0.6110068928622632, 0.44934365364455386]),\n",
       "  ('MEG1342', [0.6193767303158056, 0.5085427159912537]),\n",
       "  ('MEG1343', [0.6193767303158056, 0.5463096388050945]),\n",
       "  ('MEG1323', [0.6639060019406943, 0.6142490472249095]),\n",
       "  ('MEG1322', [0.6639060019406943, 0.6520159700387503]),\n",
       "  ('MEG1313', [0.6059412834857039, 0.6560714199774235]),\n",
       "  ('MEG1223', [0.6317459564877962, 0.7194771585751274]),\n",
       "  ('MEG1222', [0.6317459564877962, 0.7572440813889681]),\n",
       "  0],\n",
       " [0,\n",
       "  0,\n",
       "  ('MEG2522', [0.6668797618896716, 0.2431031183829057]),\n",
       "  ('MEG2523', [0.6668797618896716, 0.2808700411967465]),\n",
       "  ('MEG2642', [0.7155847484422416, 0.3557694931617706]),\n",
       "  ('MEG2643', [0.7155847484422416, 0.3935364159756115]),\n",
       "  ('MEG2422', [0.665136554033353, 0.42373428850710104]),\n",
       "  ('MEG1333', [0.6777788426106722, 0.4918910002474023]),\n",
       "  ('MEG1332', [0.6777788426106722, 0.5296579230612433]),\n",
       "  ('MEG1442', [0.7187984492052398, 0.6245984681512776]),\n",
       "  ('MEG1443', [0.7187984492052398, 0.6623653909651184]),\n",
       "  ('MEG1412', [0.6791548804433946, 0.7482038130750193]),\n",
       "  ('MEG1413', [0.6791548804433946, 0.78597073588886]),\n",
       "  0,\n",
       "  0],\n",
       " [0,\n",
       "  0,\n",
       "  0,\n",
       "  ('MEG2633', [0.7362814375803773, 0.26520966940983576]),\n",
       "  ('MEG2632', [0.7362814375803773, 0.30297659222367673]),\n",
       "  ('MEG2623', [0.7766680327816621, 0.4045847968958799]),\n",
       "  ('MEG2622', [0.7766680327816621, 0.44235171970972076]),\n",
       "  ('MEG2612', [0.7345715930236728, 0.4810906498160215]),\n",
       "  ('MEG2613', [0.7345715930236728, 0.5188575726298624]),\n",
       "  ('MEG1433', [0.7796571261013019, 0.5613986272633702]),\n",
       "  ('MEG1423', [0.7441781990053691, 0.7190383749124917]),\n",
       "  ('MEG1422', [0.7441781990053691, 0.7568052977263326]),\n",
       "  0,\n",
       "  0,\n",
       "  0]]"
      ]
     },
     "execution_count": 16,
     "metadata": {},
     "output_type": "execute_result"
    }
   ],
   "source": [
    "channel_image"
   ]
  },
  {
   "cell_type": "code",
   "execution_count": 2,
   "metadata": {},
   "outputs": [],
   "source": [
    "from mne import read_evokeds"
   ]
  },
  {
   "cell_type": "code",
   "execution_count": 3,
   "metadata": {},
   "outputs": [
    {
     "name": "stdout",
     "output_type": "stream",
     "text": [
      "This filename (data/sub-CC310385/meg/passive_raw.fif) does not conform to MNE naming conventions. All evoked files should end with -ave.fif, -ave.fif.gz, _ave.fif or _ave.fif.gz\n",
      "Reading data/sub-CC310385/meg/passive_raw.fif ...\n"
     ]
    },
    {
     "name": "stderr",
     "output_type": "stream",
     "text": [
      "<ipython-input-3-b1f773540783>:1: RuntimeWarning: This filename (data/sub-CC310385/meg/passive_raw.fif) does not conform to MNE naming conventions. All evoked files should end with -ave.fif, -ave.fif.gz, _ave.fif or _ave.fif.gz\n",
      "  evoked = read_evokeds('data/sub-CC310385/meg/passive_raw.fif')\n"
     ]
    }
   ],
   "source": [
    "evoked = read_evokeds('data/sub-CC310385/meg/passive_raw.fif')"
   ]
  },
  {
   "cell_type": "code",
   "execution_count": 8,
   "metadata": {},
   "outputs": [
    {
     "data": {
      "text/plain": [
       "[]"
      ]
     },
     "execution_count": 8,
     "metadata": {},
     "output_type": "execute_result"
    }
   ],
   "source": []
  },
  {
   "cell_type": "code",
   "execution_count": 7,
   "metadata": {},
   "outputs": [
    {
     "ename": "AttributeError",
     "evalue": "'list' object has no attribute 'plot_topomap'",
     "output_type": "error",
     "traceback": [
      "\u001b[0;31m---------------------------------------------------------------------------\u001b[0m",
      "\u001b[0;31mAttributeError\u001b[0m                            Traceback (most recent call last)",
      "\u001b[0;32m<ipython-input-7-4652c8d56f0a>\u001b[0m in \u001b[0;36m<module>\u001b[0;34m\u001b[0m\n\u001b[0;32m----> 1\u001b[0;31m \u001b[0mevoked\u001b[0m\u001b[0;34m.\u001b[0m\u001b[0mplot_topomap\u001b[0m\u001b[0;34m(\u001b[0m\u001b[0;36m5\u001b[0m\u001b[0;34m,\u001b[0m \u001b[0mch_type\u001b[0m\u001b[0;34m=\u001b[0m\u001b[0;34m'grad'\u001b[0m\u001b[0;34m,\u001b[0m \u001b[0mtime_unit\u001b[0m\u001b[0;34m=\u001b[0m\u001b[0;34m's'\u001b[0m\u001b[0;34m)\u001b[0m\u001b[0;34m\u001b[0m\u001b[0;34m\u001b[0m\u001b[0m\n\u001b[0m",
      "\u001b[0;31mAttributeError\u001b[0m: 'list' object has no attribute 'plot_topomap'"
     ]
    }
   ],
   "source": [
    "evoked.plot_topomap(5, ch_type='grad', time_unit='s')"
   ]
  },
  {
   "cell_type": "code",
   "execution_count": null,
   "metadata": {},
   "outputs": [],
   "source": []
  }
 ],
 "metadata": {
  "kernelspec": {
   "display_name": "Python 3",
   "language": "python",
   "name": "python3"
  },
  "language_info": {
   "codemirror_mode": {
    "name": "ipython",
    "version": 3
   },
   "file_extension": ".py",
   "mimetype": "text/x-python",
   "name": "python",
   "nbconvert_exporter": "python",
   "pygments_lexer": "ipython3",
   "version": "3.6.7"
  }
 },
 "nbformat": 4,
 "nbformat_minor": 2
}
